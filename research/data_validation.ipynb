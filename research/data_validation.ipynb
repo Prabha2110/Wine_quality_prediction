{
 "cells": [
  {
   "cell_type": "code",
   "execution_count": 3,
   "metadata": {},
   "outputs": [],
   "source": [
    "import os"
   ]
  },
  {
   "cell_type": "code",
   "execution_count": 4,
   "metadata": {},
   "outputs": [
    {
     "data": {
      "text/plain": [
       "'e:\\\\project\\\\Wine_quality_prediction\\\\research'"
      ]
     },
     "execution_count": 4,
     "metadata": {},
     "output_type": "execute_result"
    }
   ],
   "source": [
    "%pwd"
   ]
  },
  {
   "cell_type": "code",
   "execution_count": 5,
   "metadata": {},
   "outputs": [],
   "source": [
    "os.chdir(\"../\")"
   ]
  },
  {
   "cell_type": "code",
   "execution_count": 6,
   "metadata": {},
   "outputs": [
    {
     "data": {
      "text/plain": [
       "'e:\\\\project\\\\Wine_quality_prediction'"
      ]
     },
     "execution_count": 6,
     "metadata": {},
     "output_type": "execute_result"
    }
   ],
   "source": [
    "%pwd"
   ]
  },
  {
   "cell_type": "code",
   "execution_count": 7,
   "metadata": {},
   "outputs": [],
   "source": [
    "import pandas as pd"
   ]
  },
  {
   "cell_type": "code",
   "execution_count": 8,
   "metadata": {},
   "outputs": [
    {
     "data": {
      "text/html": [
       "<div>\n",
       "<style scoped>\n",
       "    .dataframe tbody tr th:only-of-type {\n",
       "        vertical-align: middle;\n",
       "    }\n",
       "\n",
       "    .dataframe tbody tr th {\n",
       "        vertical-align: top;\n",
       "    }\n",
       "\n",
       "    .dataframe thead th {\n",
       "        text-align: right;\n",
       "    }\n",
       "</style>\n",
       "<table border=\"1\" class=\"dataframe\">\n",
       "  <thead>\n",
       "    <tr style=\"text-align: right;\">\n",
       "      <th></th>\n",
       "      <th>fixed acidity</th>\n",
       "      <th>volatile acidity</th>\n",
       "      <th>citric acid</th>\n",
       "      <th>residual sugar</th>\n",
       "      <th>chlorides</th>\n",
       "      <th>free sulfur dioxide</th>\n",
       "      <th>total sulfur dioxide</th>\n",
       "      <th>density</th>\n",
       "      <th>pH</th>\n",
       "      <th>sulphates</th>\n",
       "      <th>alcohol</th>\n",
       "      <th>quality</th>\n",
       "    </tr>\n",
       "  </thead>\n",
       "  <tbody>\n",
       "    <tr>\n",
       "      <th>0</th>\n",
       "      <td>7.4</td>\n",
       "      <td>0.170</td>\n",
       "      <td>0.29</td>\n",
       "      <td>1.4</td>\n",
       "      <td>0.047</td>\n",
       "      <td>23.0</td>\n",
       "      <td>107.0</td>\n",
       "      <td>0.99390</td>\n",
       "      <td>3.52</td>\n",
       "      <td>0.65</td>\n",
       "      <td>10.4</td>\n",
       "      <td>6</td>\n",
       "    </tr>\n",
       "    <tr>\n",
       "      <th>1</th>\n",
       "      <td>5.3</td>\n",
       "      <td>0.310</td>\n",
       "      <td>0.38</td>\n",
       "      <td>10.5</td>\n",
       "      <td>0.031</td>\n",
       "      <td>53.0</td>\n",
       "      <td>140.0</td>\n",
       "      <td>0.99321</td>\n",
       "      <td>3.34</td>\n",
       "      <td>0.46</td>\n",
       "      <td>11.7</td>\n",
       "      <td>6</td>\n",
       "    </tr>\n",
       "    <tr>\n",
       "      <th>2</th>\n",
       "      <td>4.7</td>\n",
       "      <td>0.145</td>\n",
       "      <td>0.29</td>\n",
       "      <td>1.0</td>\n",
       "      <td>0.042</td>\n",
       "      <td>35.0</td>\n",
       "      <td>90.0</td>\n",
       "      <td>0.99080</td>\n",
       "      <td>3.76</td>\n",
       "      <td>0.49</td>\n",
       "      <td>11.3</td>\n",
       "      <td>6</td>\n",
       "    </tr>\n",
       "    <tr>\n",
       "      <th>3</th>\n",
       "      <td>6.9</td>\n",
       "      <td>0.260</td>\n",
       "      <td>0.29</td>\n",
       "      <td>4.2</td>\n",
       "      <td>0.043</td>\n",
       "      <td>33.0</td>\n",
       "      <td>114.0</td>\n",
       "      <td>0.99020</td>\n",
       "      <td>3.16</td>\n",
       "      <td>0.31</td>\n",
       "      <td>12.5</td>\n",
       "      <td>6</td>\n",
       "    </tr>\n",
       "    <tr>\n",
       "      <th>4</th>\n",
       "      <td>6.4</td>\n",
       "      <td>0.450</td>\n",
       "      <td>0.07</td>\n",
       "      <td>1.1</td>\n",
       "      <td>0.030</td>\n",
       "      <td>10.0</td>\n",
       "      <td>131.0</td>\n",
       "      <td>0.99050</td>\n",
       "      <td>2.97</td>\n",
       "      <td>0.28</td>\n",
       "      <td>10.8</td>\n",
       "      <td>5</td>\n",
       "    </tr>\n",
       "  </tbody>\n",
       "</table>\n",
       "</div>"
      ],
      "text/plain": [
       "   fixed acidity  volatile acidity  citric acid  residual sugar  chlorides  \\\n",
       "0            7.4             0.170         0.29             1.4      0.047   \n",
       "1            5.3             0.310         0.38            10.5      0.031   \n",
       "2            4.7             0.145         0.29             1.0      0.042   \n",
       "3            6.9             0.260         0.29             4.2      0.043   \n",
       "4            6.4             0.450         0.07             1.1      0.030   \n",
       "\n",
       "   free sulfur dioxide  total sulfur dioxide  density    pH  sulphates  \\\n",
       "0                 23.0                 107.0  0.99390  3.52       0.65   \n",
       "1                 53.0                 140.0  0.99321  3.34       0.46   \n",
       "2                 35.0                  90.0  0.99080  3.76       0.49   \n",
       "3                 33.0                 114.0  0.99020  3.16       0.31   \n",
       "4                 10.0                 131.0  0.99050  2.97       0.28   \n",
       "\n",
       "   alcohol  quality  \n",
       "0     10.4        6  \n",
       "1     11.7        6  \n",
       "2     11.3        6  \n",
       "3     12.5        6  \n",
       "4     10.8        5  "
      ]
     },
     "execution_count": 8,
     "metadata": {},
     "output_type": "execute_result"
    }
   ],
   "source": [
    "data = pd.read_csv(\"artifacts\\data_ingestion\\data.csv\")\n",
    "data.head()"
   ]
  },
  {
   "cell_type": "code",
   "execution_count": 9,
   "metadata": {},
   "outputs": [
    {
     "name": "stdout",
     "output_type": "stream",
     "text": [
      "<class 'pandas.core.frame.DataFrame'>\n",
      "RangeIndex: 32485 entries, 0 to 32484\n",
      "Data columns (total 12 columns):\n",
      " #   Column                Non-Null Count  Dtype  \n",
      "---  ------                --------------  -----  \n",
      " 0   fixed acidity         32485 non-null  float64\n",
      " 1   volatile acidity      32485 non-null  float64\n",
      " 2   citric acid           32485 non-null  float64\n",
      " 3   residual sugar        32485 non-null  float64\n",
      " 4   chlorides             32485 non-null  float64\n",
      " 5   free sulfur dioxide   32485 non-null  float64\n",
      " 6   total sulfur dioxide  32485 non-null  float64\n",
      " 7   density               32485 non-null  float64\n",
      " 8   pH                    32485 non-null  float64\n",
      " 9   sulphates             32485 non-null  float64\n",
      " 10  alcohol               32485 non-null  float64\n",
      " 11  quality               32485 non-null  int64  \n",
      "dtypes: float64(11), int64(1)\n",
      "memory usage: 3.0 MB\n"
     ]
    }
   ],
   "source": [
    "data.info()"
   ]
  },
  {
   "cell_type": "code",
   "execution_count": 10,
   "metadata": {},
   "outputs": [],
   "source": [
    "from dataclasses import dataclass\n",
    "from pathlib import Path\n",
    "\n",
    "\n",
    "@dataclass(frozen=True)\n",
    "class DataValidationConfig:\n",
    "    root_dir: Path\n",
    "    STATUS_FILE: str\n",
    "    data_file: Path  \n",
    "    all_schema: dict"
   ]
  },
  {
   "cell_type": "code",
   "execution_count": 11,
   "metadata": {},
   "outputs": [],
   "source": [
    "from mlProject.constants import *\n",
    "from mlProject.utils.common import read_yaml, create_directories"
   ]
  },
  {
   "cell_type": "code",
   "execution_count": 12,
   "metadata": {},
   "outputs": [],
   "source": [
    "class ConfigurationManager:\n",
    "    def __init__(\n",
    "        self,\n",
    "        config_filepath = CONFIG_FILE_PATH,\n",
    "        params_filepath = PARAMS_FILE_PATH,\n",
    "        schema_filepath = SCHEMA_FILE_PATH):\n",
    "\n",
    "        self.config = read_yaml(config_filepath)\n",
    "        self.params = read_yaml(params_filepath)\n",
    "        self.schema = read_yaml(schema_filepath)\n",
    "\n",
    "        create_directories([self.config.artifacts_root])\n",
    "\n",
    "\n",
    "    \n",
    "    def get_data_validation_config(self) -> DataValidationConfig:\n",
    "        config = self.config.data_validation\n",
    "        schema = self.schema.COLUMNS\n",
    "\n",
    "        create_directories([config.root_dir])\n",
    "\n",
    "        data_validation_config = DataValidationConfig(\n",
    "            root_dir=config.root_dir,\n",
    "            STATUS_FILE=config.STATUS_FILE,\n",
    "            data_file=self.config.data_ingestion.local_data_file,  \n",
    "            all_schema=schema,\n",
    "        )\n",
    "\n",
    "        return data_validation_config\n"
   ]
  },
  {
   "cell_type": "code",
   "execution_count": 13,
   "metadata": {},
   "outputs": [],
   "source": [
    "import os\n",
    "from mlProject import logger"
   ]
  },
  {
   "cell_type": "code",
   "execution_count": 14,
   "metadata": {},
   "outputs": [],
   "source": [
    "class DataValidation:\n",
    "    def __init__(self, config: DataValidationConfig):\n",
    "        self.config = config\n",
    "\n",
    "    def validate_all_columns(self) -> bool:\n",
    "        try:\n",
    "            data = pd.read_csv(self.config.data_file)  \n",
    "            all_cols = set(data.columns)\n",
    "            all_schema = set(self.config.all_schema.keys())\n",
    "\n",
    "            missing_cols = all_schema - all_cols\n",
    "            validation_status = len(missing_cols) == 0\n",
    "\n",
    "            with open(self.config.STATUS_FILE, 'w') as f:\n",
    "                f.write(f\"Validation status: {validation_status}\")\n",
    "\n",
    "            if not validation_status:\n",
    "                logger.warning(f\"Missing columns: {missing_cols}\")\n",
    "            else:\n",
    "                logger.info(\"All columns are present!\")\n",
    "\n",
    "            return validation_status\n",
    "\n",
    "        except Exception as e:\n",
    "            logger.error(f\"Error in Data Validation: {e}\")\n",
    "            raise e  "
   ]
  },
  {
   "cell_type": "code",
   "execution_count": 15,
   "metadata": {},
   "outputs": [
    {
     "name": "stdout",
     "output_type": "stream",
     "text": [
      "[2025-04-11 10:17:11,889: INFO: common: yaml file: config\\config.yaml loaded successfully]\n",
      "[2025-04-11 10:17:11,891: INFO: common: yaml file: params.yaml loaded successfully]\n",
      "[2025-04-11 10:17:11,894: INFO: common: yaml file: schema.yaml loaded successfully]\n",
      "[2025-04-11 10:17:11,895: INFO: common: created directory at: artifacts]\n",
      "[2025-04-11 10:17:11,895: INFO: common: created directory at: artifacts/data_validation]\n",
      "[2025-04-11 10:17:11,921: INFO: 2830697464: All columns are present!]\n"
     ]
    }
   ],
   "source": [
    "try:\n",
    "    config = ConfigurationManager()\n",
    "    data_validation_config = config.get_data_validation_config()\n",
    "    data_validation = DataValidation(config=data_validation_config)\n",
    "    data_validation.validate_all_columns()\n",
    "except Exception as e:\n",
    "    raise e"
   ]
  },
  {
   "cell_type": "code",
   "execution_count": null,
   "metadata": {},
   "outputs": [],
   "source": []
  },
  {
   "cell_type": "code",
   "execution_count": null,
   "metadata": {},
   "outputs": [],
   "source": []
  }
 ],
 "metadata": {
  "kernelspec": {
   "display_name": "mlproj",
   "language": "python",
   "name": "python3"
  },
  "language_info": {
   "codemirror_mode": {
    "name": "ipython",
    "version": 3
   },
   "file_extension": ".py",
   "mimetype": "text/x-python",
   "name": "python",
   "nbconvert_exporter": "python",
   "pygments_lexer": "ipython3",
   "version": "3.8.20"
  }
 },
 "nbformat": 4,
 "nbformat_minor": 2
}
